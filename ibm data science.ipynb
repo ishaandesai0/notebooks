{
 "cells": [
  {
   "attachments": {},
   "cell_type": "markdown",
   "metadata": {},
   "source": [
    "# My Jupyter Notebook for Data Science Tools"
   ]
  },
  {
   "attachments": {},
   "cell_type": "markdown",
   "metadata": {},
   "source": [
    "**Ishaan Desai** \n",
    "Software Developer\n",
    "_I am interested in Data Science for two reasons. I want to learn the practical applications for my future career as well as pick up on some programming languages_"
   ]
  },
  {
   "attachments": {},
   "cell_type": "markdown",
   "metadata": {},
   "source": [
    "* Python\n",
    "* SQL\n",
    "* R"
   ]
  },
  {
   "attachments": {},
   "cell_type": "markdown",
   "metadata": {},
   "source": [
    "* PyTorch\n",
    "* TensorFlow\n",
    "* SciKit"
   ]
  },
  {
   "attachments": {},
   "cell_type": "markdown",
   "metadata": {},
   "source": [
    "\n",
    "| Git | IBM Watson | SPSS |\n",
    "| --- | --- | --- |"
   ]
  },
  {
   "attachments": {},
   "cell_type": "markdown",
   "metadata": {},
   "source": [
    "Here are some basic arithmetic expressions\n",
    "1+1 = 2\n",
    "2-1 = 1\n",
    "1*2=2\n",
    "2/1 = 1"
   ]
  },
  {
   "cell_type": "code",
   "execution_count": 3,
   "metadata": {},
   "outputs": [
    {
     "name": "stdout",
     "output_type": "stream",
     "text": [
      "8\n",
      "15\n"
     ]
    }
   ],
   "source": [
    "x = int(input(\"Enter Number\"))\n",
    "y = int(input(\"Enter Number\"))\n",
    "print(x + y)\n",
    "print(x * y)"
   ]
  },
  {
   "cell_type": "code",
   "execution_count": 4,
   "metadata": {},
   "outputs": [
    {
     "name": "stdout",
     "output_type": "stream",
     "text": [
      "0.6666666666666666\n"
     ]
    }
   ],
   "source": [
    "x = input(\"How many minutes\")\n",
    "hours = int(x) / 60\n",
    "print(hours)"
   ]
  },
  {
   "attachments": {},
   "cell_type": "markdown",
   "metadata": {},
   "source": [
    "* My objectives are to become a good data scientist and learn more languages"
   ]
  },
  {
   "attachments": {},
   "cell_type": "markdown",
   "metadata": {},
   "source": [
    "Ishaan Desai"
   ]
  }
 ],
 "metadata": {
  "kernelspec": {
   "display_name": "Python 3",
   "language": "python",
   "name": "python3"
  },
  "language_info": {
   "codemirror_mode": {
    "name": "ipython",
    "version": 3
   },
   "file_extension": ".py",
   "mimetype": "text/x-python",
   "name": "python",
   "nbconvert_exporter": "python",
   "pygments_lexer": "ipython3",
   "version": "3.10.10"
  },
  "orig_nbformat": 4,
  "vscode": {
   "interpreter": {
    "hash": "64b64c94cdde918b238bc9990b59899ab15ec41fd929542a368171a6b8c31d28"
   }
  }
 },
 "nbformat": 4,
 "nbformat_minor": 2
}
